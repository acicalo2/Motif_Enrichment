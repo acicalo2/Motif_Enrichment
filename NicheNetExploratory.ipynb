{
 "cells": [
  {
   "cell_type": "markdown",
   "id": "afed1aa9-69ff-4979-9aed-4a9cc60db674",
   "metadata": {},
   "source": [
    "### NicheNet on a GeneSet of Interest  "
   ]
  },
  {
   "cell_type": "code",
   "execution_count": 1,
   "id": "a4edf60c-e477-4b98-8d11-76578dcd5321",
   "metadata": {
    "collapsed": true,
    "jupyter": {
     "outputs_hidden": true
    },
    "tags": []
   },
   "outputs": [
    {
     "name": "stderr",
     "output_type": "stream",
     "text": [
      "\n",
      "                                                   / |\n",
      "                                                 /    \\\n",
      "            .                                  /      |.\n",
      "            \\\\\\                              /        |.\n",
      "              \\\\\\                          /           `|.\n",
      "                \\\\\\                      /              |.\n",
      "                  \\                    /                |\\\n",
      "                  \\\\#####\\           /                  ||\n",
      "                ==###########>      /                   ||\n",
      "                 \\\\##==......\\    /                     ||\n",
      "            ______ =       =|__ /__                     ||      \\\\\\\n",
      "        ,--' ,----`-,__ ___/'  --,-`-===================##========>\n",
      "       \\               '        ##_______ _____ ,--,__,=##,__   ///\n",
      "        ,    __==    ___,-,__,--'#'  ==='      `-'    | ##,-/\n",
      "        -,____,---'       \\\\####\\\\________________,--\\\\_##,/\n",
      "           ___      .______        ______  __    __  .______      \n",
      "          /   \\     |   _  \\      /      ||  |  |  | |   _  \\     \n",
      "         /  ^  \\    |  |_)  |    |  ,----'|  |__|  | |  |_)  |    \n",
      "        /  /_\\  \\   |      /     |  |     |   __   | |      /     \n",
      "       /  _____  \\  |  |\\  \\\\___ |  `----.|  |  |  | |  |\\  \\\\___.\n",
      "      /__/     \\__\\ | _| `._____| \\______||__|  |__| | _| `._____|\n",
      "    \n",
      "\n",
      "ArchR : Version 1.0.2\n",
      "For more information see our website : www.ArchRProject.com\n",
      "If you encounter a bug please report : https://github.com/GreenleafLab/ArchR/issues\n",
      "\n",
      "Loading Required Packages...\n",
      "\n",
      "\tLoading Package : grid v4.1.3\n",
      "\n",
      "\tLoading Package : gridExtra v2.3\n",
      "\n",
      "\tLoading Package : gtools v3.9.3\n",
      "\n",
      "\tLoading Package : gtable v0.3.1\n",
      "\n",
      "\tLoading Package : ggplot2 v3.3.6\n",
      "\n",
      "\tLoading Package : magrittr v2.0.3\n",
      "\n",
      "\tLoading Package : plyr v1.8.7\n",
      "\n",
      "\tLoading Package : stringr v1.4.1\n",
      "\n",
      "\tLoading Package : data.table v1.14.4\n",
      "\n",
      "\tLoading Package : matrixStats v0.62.0\n",
      "\n",
      "\tLoading Package : S4Vectors v0.32.4\n",
      "\n",
      "\tLoading Package : GenomicRanges v1.46.1\n",
      "\n",
      "\tLoading Package : BiocGenerics v0.40.0\n",
      "\n",
      "\tLoading Package : Matrix v1.5.1\n",
      "\n",
      "\tLoading Package : Rcpp v1.0.9\n",
      "\n",
      "\tLoading Package : SummarizedExperiment v1.24.0\n",
      "\n",
      "\tLoading Package : rhdf5 v2.38.1\n",
      "\n",
      "\n",
      "Attaching package: ‘H5weaver’\n",
      "\n",
      "\n",
      "The following objects are masked from ‘package:rhdf5’:\n",
      "\n",
      "    h5dump, h5ls\n",
      "\n",
      "\n",
      "Warning message in system(\"timedatectl\", intern = TRUE):\n",
      "“running command 'timedatectl' had status 1”\n",
      "── \u001b[1mAttaching packages\u001b[22m ─────────────────────────────────────── tidyverse 1.3.1 ──\n",
      "\n",
      "\u001b[32m✔\u001b[39m \u001b[34mtibble \u001b[39m 3.1.8      \u001b[32m✔\u001b[39m \u001b[34mpurrr  \u001b[39m 0.3.5 \n",
      "\u001b[32m✔\u001b[39m \u001b[34mtidyr  \u001b[39m 1.2.1      \u001b[32m✔\u001b[39m \u001b[34mdplyr  \u001b[39m 1.0.10\n",
      "\u001b[32m✔\u001b[39m \u001b[34mreadr  \u001b[39m 2.1.3      \u001b[32m✔\u001b[39m \u001b[34mforcats\u001b[39m 0.5.2 \n",
      "\n",
      "── \u001b[1mConflicts\u001b[22m ────────────────────────────────────────── tidyverse_conflicts() ──\n",
      "\u001b[31m✖\u001b[39m \u001b[34mdplyr\u001b[39m::\u001b[32marrange()\u001b[39m         masks \u001b[34mplyr\u001b[39m::arrange()\n",
      "\u001b[31m✖\u001b[39m \u001b[34mdplyr\u001b[39m::\u001b[32mbetween()\u001b[39m         masks \u001b[34mdata.table\u001b[39m::between()\n",
      "\u001b[31m✖\u001b[39m \u001b[34mdplyr\u001b[39m::\u001b[32mcollapse()\u001b[39m        masks \u001b[34mIRanges\u001b[39m::collapse()\n",
      "\u001b[31m✖\u001b[39m \u001b[34mdplyr\u001b[39m::\u001b[32mcombine()\u001b[39m         masks \u001b[34mBiobase\u001b[39m::combine(), \u001b[34mBiocGenerics\u001b[39m::combine(), \u001b[34mgridExtra\u001b[39m::combine()\n",
      "\u001b[31m✖\u001b[39m \u001b[34mpurrr\u001b[39m::\u001b[32mcompact()\u001b[39m         masks \u001b[34mplyr\u001b[39m::compact()\n",
      "\u001b[31m✖\u001b[39m \u001b[34mdplyr\u001b[39m::\u001b[32mcount()\u001b[39m           masks \u001b[34mmatrixStats\u001b[39m::count(), \u001b[34mplyr\u001b[39m::count()\n",
      "\u001b[31m✖\u001b[39m \u001b[34mdplyr\u001b[39m::\u001b[32mdesc()\u001b[39m            masks \u001b[34mIRanges\u001b[39m::desc(), \u001b[34mplyr\u001b[39m::desc()\n",
      "\u001b[31m✖\u001b[39m \u001b[34mtidyr\u001b[39m::\u001b[32mexpand()\u001b[39m          masks \u001b[34mMatrix\u001b[39m::expand(), \u001b[34mS4Vectors\u001b[39m::expand()\n",
      "\u001b[31m✖\u001b[39m \u001b[34mtidyr\u001b[39m::\u001b[32mextract()\u001b[39m         masks \u001b[34mmagrittr\u001b[39m::extract()\n",
      "\u001b[31m✖\u001b[39m \u001b[34mdplyr\u001b[39m::\u001b[32mfailwith()\u001b[39m        masks \u001b[34mplyr\u001b[39m::failwith()\n",
      "\u001b[31m✖\u001b[39m \u001b[34mdplyr\u001b[39m::\u001b[32mfilter()\u001b[39m          masks \u001b[34mstats\u001b[39m::filter()\n",
      "\u001b[31m✖\u001b[39m \u001b[34mdplyr\u001b[39m::\u001b[32mfirst()\u001b[39m           masks \u001b[34mS4Vectors\u001b[39m::first(), \u001b[34mdata.table\u001b[39m::first()\n",
      "\u001b[31m✖\u001b[39m \u001b[34mdplyr\u001b[39m::\u001b[32mid()\u001b[39m              masks \u001b[34mplyr\u001b[39m::id()\n",
      "\u001b[31m✖\u001b[39m \u001b[34mdplyr\u001b[39m::\u001b[32mlag()\u001b[39m             masks \u001b[34mstats\u001b[39m::lag()\n",
      "\u001b[31m✖\u001b[39m \u001b[34mdplyr\u001b[39m::\u001b[32mlast()\u001b[39m            masks \u001b[34mdata.table\u001b[39m::last()\n",
      "\u001b[31m✖\u001b[39m \u001b[34mdplyr\u001b[39m::\u001b[32mmutate()\u001b[39m          masks \u001b[34mplyr\u001b[39m::mutate()\n",
      "\u001b[31m✖\u001b[39m \u001b[34mtidyr\u001b[39m::\u001b[32mpack()\u001b[39m            masks \u001b[34mMatrix\u001b[39m::pack()\n",
      "\u001b[31m✖\u001b[39m \u001b[34mBiocGenerics\u001b[39m::\u001b[32mPosition()\u001b[39m masks \u001b[34mggplot2\u001b[39m::Position(), \u001b[34mbase\u001b[39m::Position()\n",
      "\u001b[31m✖\u001b[39m \u001b[34mpurrr\u001b[39m::\u001b[32mreduce()\u001b[39m          masks \u001b[34mGenomicRanges\u001b[39m::reduce(), \u001b[34mIRanges\u001b[39m::reduce()\n",
      "\u001b[31m✖\u001b[39m \u001b[34mdplyr\u001b[39m::\u001b[32mrename()\u001b[39m          masks \u001b[34mS4Vectors\u001b[39m::rename(), \u001b[34mplyr\u001b[39m::rename()\n",
      "\u001b[31m✖\u001b[39m \u001b[34mpurrr\u001b[39m::\u001b[32mset_names()\u001b[39m       masks \u001b[34mmagrittr\u001b[39m::set_names()\n",
      "\u001b[31m✖\u001b[39m \u001b[34mdplyr\u001b[39m::\u001b[32mslice()\u001b[39m           masks \u001b[34mIRanges\u001b[39m::slice()\n",
      "\u001b[31m✖\u001b[39m \u001b[34mdplyr\u001b[39m::\u001b[32msummarise()\u001b[39m       masks \u001b[34mplyr\u001b[39m::summarise()\n",
      "\u001b[31m✖\u001b[39m \u001b[34mdplyr\u001b[39m::\u001b[32msummarize()\u001b[39m       masks \u001b[34mplyr\u001b[39m::summarize()\n",
      "\u001b[31m✖\u001b[39m \u001b[34mpurrr\u001b[39m::\u001b[32mtranspose()\u001b[39m       masks \u001b[34mdata.table\u001b[39m::transpose()\n",
      "\u001b[31m✖\u001b[39m \u001b[34mtidyr\u001b[39m::\u001b[32munpack()\u001b[39m          masks \u001b[34mMatrix\u001b[39m::unpack()\n",
      "\n",
      "Loading required package: AnnotationDbi\n",
      "\n",
      "\n",
      "Attaching package: ‘AnnotationDbi’\n",
      "\n",
      "\n",
      "The following object is masked from ‘package:dplyr’:\n",
      "\n",
      "    select\n",
      "\n",
      "\n"
     ]
    }
   ],
   "source": [
    ".libPaths(\"/home/jupyter/libb\") # add this path \n",
    "library(ArchR)\n",
    "library(parallel)\n",
    "library(H5weaver)\n",
    "library(tidyverse)\n",
    "library(dplyr)\n",
    "library(hise)\n",
    "library(GenomicFeatures)"
   ]
  },
  {
   "cell_type": "code",
   "execution_count": 2,
   "id": "3db95b82-f0ea-46ff-b335-8dbc60f3db27",
   "metadata": {},
   "outputs": [],
   "source": [
    "source('/home/jupyter/NicheNet/scATAC_Supplements/Enrichment_Analysis.R')"
   ]
  },
  {
   "cell_type": "code",
   "execution_count": 4,
   "id": "251e5a9b-27e8-4b38-95fa-273285b6433f",
   "metadata": {},
   "outputs": [],
   "source": [
    "# Load Data"
   ]
  },
  {
   "cell_type": "code",
   "execution_count": 57,
   "id": "b38a0cbe-4f6e-4615-b98d-dbfb749bc55f",
   "metadata": {},
   "outputs": [
    {
     "data": {
      "text/html": [
       "<table class=\"dataframe\">\n",
       "<caption>A tibble: 6 × 2</caption>\n",
       "<thead>\n",
       "\t<tr><th scope=col>feature</th><th scope=col>mlog10Padj</th></tr>\n",
       "\t<tr><th scope=col>&lt;chr&gt;</th><th scope=col>&lt;dbl&gt;</th></tr>\n",
       "</thead>\n",
       "<tbody>\n",
       "\t<tr><td>AC0021266_638</td><td>41.440757</td></tr>\n",
       "\t<tr><td>AC0125311_531</td><td>11.886557</td></tr>\n",
       "\t<tr><td>AC2261502_577</td><td> 7.198457</td></tr>\n",
       "\t<tr><td>AHR_28       </td><td> 0.000000</td></tr>\n",
       "\t<tr><td>AHRR_17      </td><td> 0.000000</td></tr>\n",
       "\t<tr><td>AIRE_736     </td><td> 7.101157</td></tr>\n",
       "</tbody>\n",
       "</table>\n"
      ],
      "text/latex": [
       "A tibble: 6 × 2\n",
       "\\begin{tabular}{ll}\n",
       " feature & mlog10Padj\\\\\n",
       " <chr> & <dbl>\\\\\n",
       "\\hline\n",
       "\t AC0021266\\_638 & 41.440757\\\\\n",
       "\t AC0125311\\_531 & 11.886557\\\\\n",
       "\t AC2261502\\_577 &  7.198457\\\\\n",
       "\t AHR\\_28        &  0.000000\\\\\n",
       "\t AHRR\\_17       &  0.000000\\\\\n",
       "\t AIRE\\_736      &  7.101157\\\\\n",
       "\\end{tabular}\n"
      ],
      "text/markdown": [
       "\n",
       "A tibble: 6 × 2\n",
       "\n",
       "| feature &lt;chr&gt; | mlog10Padj &lt;dbl&gt; |\n",
       "|---|---|\n",
       "| AC0021266_638 | 41.440757 |\n",
       "| AC0125311_531 | 11.886557 |\n",
       "| AC2261502_577 |  7.198457 |\n",
       "| AHR_28        |  0.000000 |\n",
       "| AHRR_17       |  0.000000 |\n",
       "| AIRE_736      |  7.101157 |\n",
       "\n"
      ],
      "text/plain": [
       "  feature       mlog10Padj\n",
       "1 AC0021266_638 41.440757 \n",
       "2 AC0125311_531 11.886557 \n",
       "3 AC2261502_577  7.198457 \n",
       "4 AHR_28         0.000000 \n",
       "5 AHRR_17        0.000000 \n",
       "6 AIRE_736       7.101157 "
      ]
     },
     "metadata": {},
     "output_type": "display_data"
    }
   ],
   "source": [
    "enrichMotifs_all_PI <- readRDS('enrichMotifs_all_PI.RData')\n",
    "MotifEnrichment <- enrichMotifs_all_PI\n",
    "columnWithMotifs = \"feature\"\n",
    "int <- enrichMotifs_all_PI\n",
    "MotifEnrichment <- lapply(assays(enrichMotifs_all_PI),as.data.frame) %>% do.call('cbind',.) \n",
    "colnames(MotifEnrichment) <- names(assays(int))\n",
    "#MotifEnrichment <- as.tbl(MotifEnrichment)\n",
    "MotifEnrichment <- MotifEnrichment %>% group_by(.data[[ columnWithMotifs ]]) %>%\n",
    "                        summarize(mlog10Padj = max(mlog10Padj)) \n",
    "head(MotifEnrichment)"
   ]
  },
  {
   "cell_type": "code",
   "execution_count": 58,
   "id": "da87a6b9-9bd4-4129-87cc-4e9841a4d2c8",
   "metadata": {},
   "outputs": [
    {
     "data": {
      "text/html": [
       "<table class=\"dataframe\">\n",
       "<caption>A tibble: 6 × 2</caption>\n",
       "<thead>\n",
       "\t<tr><th scope=col>feature</th><th scope=col>mlog10Padj</th></tr>\n",
       "\t<tr><th scope=col>&lt;chr&gt;</th><th scope=col>&lt;dbl&gt;</th></tr>\n",
       "</thead>\n",
       "<tbody>\n",
       "\t<tr><td>AC002126638</td><td>41.440757</td></tr>\n",
       "\t<tr><td>AC012531131</td><td>11.886557</td></tr>\n",
       "\t<tr><td>AC226150277</td><td> 7.198457</td></tr>\n",
       "\t<tr><td>AHR8       </td><td> 0.000000</td></tr>\n",
       "\t<tr><td>AHRR7      </td><td> 0.000000</td></tr>\n",
       "\t<tr><td>AIRE36     </td><td> 7.101157</td></tr>\n",
       "</tbody>\n",
       "</table>\n"
      ],
      "text/latex": [
       "A tibble: 6 × 2\n",
       "\\begin{tabular}{ll}\n",
       " feature & mlog10Padj\\\\\n",
       " <chr> & <dbl>\\\\\n",
       "\\hline\n",
       "\t AC002126638 & 41.440757\\\\\n",
       "\t AC012531131 & 11.886557\\\\\n",
       "\t AC226150277 &  7.198457\\\\\n",
       "\t AHR8        &  0.000000\\\\\n",
       "\t AHRR7       &  0.000000\\\\\n",
       "\t AIRE36      &  7.101157\\\\\n",
       "\\end{tabular}\n"
      ],
      "text/markdown": [
       "\n",
       "A tibble: 6 × 2\n",
       "\n",
       "| feature &lt;chr&gt; | mlog10Padj &lt;dbl&gt; |\n",
       "|---|---|\n",
       "| AC002126638 | 41.440757 |\n",
       "| AC012531131 | 11.886557 |\n",
       "| AC226150277 |  7.198457 |\n",
       "| AHR8        |  0.000000 |\n",
       "| AHRR7       |  0.000000 |\n",
       "| AIRE36      |  7.101157 |\n",
       "\n"
      ],
      "text/plain": [
       "  feature     mlog10Padj\n",
       "1 AC002126638 41.440757 \n",
       "2 AC012531131 11.886557 \n",
       "3 AC226150277  7.198457 \n",
       "4 AHR8         0.000000 \n",
       "5 AHRR7        0.000000 \n",
       "6 AIRE36       7.101157 "
      ]
     },
     "metadata": {},
     "output_type": "display_data"
    }
   ],
   "source": [
    "MotifEnrichment$feature <- gsub(\"_.\",\"\",MotifEnrichment$feature)\n",
    "head(MotifEnrichment)"
   ]
  },
  {
   "cell_type": "code",
   "execution_count": 59,
   "id": "41adba40-5426-46fa-bc36-4695b9cdd6df",
   "metadata": {},
   "outputs": [],
   "source": [
    "filteredTF <- ligandtf[rownames(ligandtf) %in% unique(MotifEnrichment$feature), ]      "
   ]
  },
  {
   "cell_type": "code",
   "execution_count": 55,
   "id": "b2a05690-b88f-48cc-bd3c-cca180314926",
   "metadata": {},
   "outputs": [
    {
     "data": {
      "text/html": [
       "<table class=\"dataframe\">\n",
       "<caption>A matrix: 6 × 688 of type dbl</caption>\n",
       "<thead>\n",
       "\t<tr><th></th><th scope=col>CXCL1</th><th scope=col>CXCL2</th><th scope=col>CXCL3</th><th scope=col>CXCL5</th><th scope=col>PPBP</th><th scope=col>CXCL6</th><th scope=col>CXCL8</th><th scope=col>CXCL9</th><th scope=col>CXCL10</th><th scope=col>CXCL11</th><th scope=col>⋯</th><th scope=col>PCDHGB1</th><th scope=col>CDH6</th><th scope=col>CDH9</th><th scope=col>CDH12</th><th scope=col>CDH18</th><th scope=col>PCDHB16</th><th scope=col>PCDHA7</th><th scope=col>PCDHA6</th><th scope=col>PCDHA4</th><th scope=col>PCDHA12</th></tr>\n",
       "</thead>\n",
       "<tbody>\n",
       "\t<tr><th scope=row>A1BG</th><td>0</td><td>0</td><td>0</td><td>0</td><td>0</td><td>0</td><td>0</td><td>0</td><td>0</td><td>0</td><td>⋯</td><td>0</td><td>0</td><td>0</td><td>0</td><td>0</td><td>0</td><td>0</td><td>0</td><td>0</td><td>0</td></tr>\n",
       "\t<tr><th scope=row>A1BG-AS1</th><td>0</td><td>0</td><td>0</td><td>0</td><td>0</td><td>0</td><td>0</td><td>0</td><td>0</td><td>0</td><td>⋯</td><td>0</td><td>0</td><td>0</td><td>0</td><td>0</td><td>0</td><td>0</td><td>0</td><td>0</td><td>0</td></tr>\n",
       "\t<tr><th scope=row>A1CF</th><td>0</td><td>0</td><td>0</td><td>0</td><td>0</td><td>0</td><td>0</td><td>0</td><td>0</td><td>0</td><td>⋯</td><td>0</td><td>0</td><td>0</td><td>0</td><td>0</td><td>0</td><td>0</td><td>0</td><td>0</td><td>0</td></tr>\n",
       "\t<tr><th scope=row>A2M</th><td>0</td><td>0</td><td>0</td><td>0</td><td>0</td><td>0</td><td>0</td><td>0</td><td>0</td><td>0</td><td>⋯</td><td>0</td><td>0</td><td>0</td><td>0</td><td>0</td><td>0</td><td>0</td><td>0</td><td>0</td><td>0</td></tr>\n",
       "\t<tr><th scope=row>A2M-AS1</th><td>0</td><td>0</td><td>0</td><td>0</td><td>0</td><td>0</td><td>0</td><td>0</td><td>0</td><td>0</td><td>⋯</td><td>0</td><td>0</td><td>0</td><td>0</td><td>0</td><td>0</td><td>0</td><td>0</td><td>0</td><td>0</td></tr>\n",
       "\t<tr><th scope=row>A2ML1</th><td>0</td><td>0</td><td>0</td><td>0</td><td>0</td><td>0</td><td>0</td><td>0</td><td>0</td><td>0</td><td>⋯</td><td>0</td><td>0</td><td>0</td><td>0</td><td>0</td><td>0</td><td>0</td><td>0</td><td>0</td><td>0</td></tr>\n",
       "</tbody>\n",
       "</table>\n"
      ],
      "text/latex": [
       "A matrix: 6 × 688 of type dbl\n",
       "\\begin{tabular}{r|lllllllllllllllllllll}\n",
       "  & CXCL1 & CXCL2 & CXCL3 & CXCL5 & PPBP & CXCL6 & CXCL8 & CXCL9 & CXCL10 & CXCL11 & ⋯ & PCDHGB1 & CDH6 & CDH9 & CDH12 & CDH18 & PCDHB16 & PCDHA7 & PCDHA6 & PCDHA4 & PCDHA12\\\\\n",
       "\\hline\n",
       "\tA1BG & 0 & 0 & 0 & 0 & 0 & 0 & 0 & 0 & 0 & 0 & ⋯ & 0 & 0 & 0 & 0 & 0 & 0 & 0 & 0 & 0 & 0\\\\\n",
       "\tA1BG-AS1 & 0 & 0 & 0 & 0 & 0 & 0 & 0 & 0 & 0 & 0 & ⋯ & 0 & 0 & 0 & 0 & 0 & 0 & 0 & 0 & 0 & 0\\\\\n",
       "\tA1CF & 0 & 0 & 0 & 0 & 0 & 0 & 0 & 0 & 0 & 0 & ⋯ & 0 & 0 & 0 & 0 & 0 & 0 & 0 & 0 & 0 & 0\\\\\n",
       "\tA2M & 0 & 0 & 0 & 0 & 0 & 0 & 0 & 0 & 0 & 0 & ⋯ & 0 & 0 & 0 & 0 & 0 & 0 & 0 & 0 & 0 & 0\\\\\n",
       "\tA2M-AS1 & 0 & 0 & 0 & 0 & 0 & 0 & 0 & 0 & 0 & 0 & ⋯ & 0 & 0 & 0 & 0 & 0 & 0 & 0 & 0 & 0 & 0\\\\\n",
       "\tA2ML1 & 0 & 0 & 0 & 0 & 0 & 0 & 0 & 0 & 0 & 0 & ⋯ & 0 & 0 & 0 & 0 & 0 & 0 & 0 & 0 & 0 & 0\\\\\n",
       "\\end{tabular}\n"
      ],
      "text/markdown": [
       "\n",
       "A matrix: 6 × 688 of type dbl\n",
       "\n",
       "| <!--/--> | CXCL1 | CXCL2 | CXCL3 | CXCL5 | PPBP | CXCL6 | CXCL8 | CXCL9 | CXCL10 | CXCL11 | ⋯ | PCDHGB1 | CDH6 | CDH9 | CDH12 | CDH18 | PCDHB16 | PCDHA7 | PCDHA6 | PCDHA4 | PCDHA12 |\n",
       "|---|---|---|---|---|---|---|---|---|---|---|---|---|---|---|---|---|---|---|---|---|---|\n",
       "| A1BG | 0 | 0 | 0 | 0 | 0 | 0 | 0 | 0 | 0 | 0 | ⋯ | 0 | 0 | 0 | 0 | 0 | 0 | 0 | 0 | 0 | 0 |\n",
       "| A1BG-AS1 | 0 | 0 | 0 | 0 | 0 | 0 | 0 | 0 | 0 | 0 | ⋯ | 0 | 0 | 0 | 0 | 0 | 0 | 0 | 0 | 0 | 0 |\n",
       "| A1CF | 0 | 0 | 0 | 0 | 0 | 0 | 0 | 0 | 0 | 0 | ⋯ | 0 | 0 | 0 | 0 | 0 | 0 | 0 | 0 | 0 | 0 |\n",
       "| A2M | 0 | 0 | 0 | 0 | 0 | 0 | 0 | 0 | 0 | 0 | ⋯ | 0 | 0 | 0 | 0 | 0 | 0 | 0 | 0 | 0 | 0 |\n",
       "| A2M-AS1 | 0 | 0 | 0 | 0 | 0 | 0 | 0 | 0 | 0 | 0 | ⋯ | 0 | 0 | 0 | 0 | 0 | 0 | 0 | 0 | 0 | 0 |\n",
       "| A2ML1 | 0 | 0 | 0 | 0 | 0 | 0 | 0 | 0 | 0 | 0 | ⋯ | 0 | 0 | 0 | 0 | 0 | 0 | 0 | 0 | 0 | 0 |\n",
       "\n"
      ],
      "text/plain": [
       "         CXCL1 CXCL2 CXCL3 CXCL5 PPBP CXCL6 CXCL8 CXCL9 CXCL10 CXCL11 ⋯ PCDHGB1\n",
       "A1BG     0     0     0     0     0    0     0     0     0      0      ⋯ 0      \n",
       "A1BG-AS1 0     0     0     0     0    0     0     0     0      0      ⋯ 0      \n",
       "A1CF     0     0     0     0     0    0     0     0     0      0      ⋯ 0      \n",
       "A2M      0     0     0     0     0    0     0     0     0      0      ⋯ 0      \n",
       "A2M-AS1  0     0     0     0     0    0     0     0     0      0      ⋯ 0      \n",
       "A2ML1    0     0     0     0     0    0     0     0     0      0      ⋯ 0      \n",
       "         CDH6 CDH9 CDH12 CDH18 PCDHB16 PCDHA7 PCDHA6 PCDHA4 PCDHA12\n",
       "A1BG     0    0    0     0     0       0      0      0      0      \n",
       "A1BG-AS1 0    0    0     0     0       0      0      0      0      \n",
       "A1CF     0    0    0     0     0       0      0      0      0      \n",
       "A2M      0    0    0     0     0       0      0      0      0      \n",
       "A2M-AS1  0    0    0     0     0       0      0      0      0      \n",
       "A2ML1    0    0    0     0     0       0      0      0      0      "
      ]
     },
     "metadata": {},
     "output_type": "display_data"
    }
   ],
   "source": [
    "head(ligandtf)"
   ]
  },
  {
   "cell_type": "code",
   "execution_count": 61,
   "id": "d7dc6479-f621-4937-98c8-3cf12787275e",
   "metadata": {},
   "outputs": [
    {
     "data": {
      "text/html": [
       "<style>\n",
       ".list-inline {list-style: none; margin:0; padding: 0}\n",
       ".list-inline>li {display: inline-block}\n",
       ".list-inline>li:not(:last-child)::after {content: \"\\00b7\"; padding: 0 .5ex}\n",
       "</style>\n",
       "<ol class=list-inline><li>870</li><li>2</li></ol>\n"
      ],
      "text/latex": [
       "\\begin{enumerate*}\n",
       "\\item 870\n",
       "\\item 2\n",
       "\\end{enumerate*}\n"
      ],
      "text/markdown": [
       "1. 870\n",
       "2. 2\n",
       "\n",
       "\n"
      ],
      "text/plain": [
       "[1] 870   2"
      ]
     },
     "metadata": {},
     "output_type": "display_data"
    }
   ],
   "source": [
    "dim(MotifEnrichment)"
   ]
  },
  {
   "cell_type": "code",
   "execution_count": 63,
   "id": "d526b809-3857-4b3f-ad98-2258a8ac506b",
   "metadata": {},
   "outputs": [
    {
     "data": {
      "text/html": [
       "<table class=\"dataframe\">\n",
       "<caption>A tibble: 6 × 2</caption>\n",
       "<thead>\n",
       "\t<tr><th scope=col>feature</th><th scope=col>mlog10Padj</th></tr>\n",
       "\t<tr><th scope=col>&lt;chr&gt;</th><th scope=col>&lt;dbl&gt;</th></tr>\n",
       "</thead>\n",
       "<tbody>\n",
       "\t<tr><td>AC002126638</td><td>41.440757</td></tr>\n",
       "\t<tr><td>AC012531131</td><td>11.886557</td></tr>\n",
       "\t<tr><td>AC226150277</td><td> 7.198457</td></tr>\n",
       "\t<tr><td>AHR8       </td><td> 0.000000</td></tr>\n",
       "\t<tr><td>AHRR7      </td><td> 0.000000</td></tr>\n",
       "\t<tr><td>AIRE36     </td><td> 7.101157</td></tr>\n",
       "</tbody>\n",
       "</table>\n"
      ],
      "text/latex": [
       "A tibble: 6 × 2\n",
       "\\begin{tabular}{ll}\n",
       " feature & mlog10Padj\\\\\n",
       " <chr> & <dbl>\\\\\n",
       "\\hline\n",
       "\t AC002126638 & 41.440757\\\\\n",
       "\t AC012531131 & 11.886557\\\\\n",
       "\t AC226150277 &  7.198457\\\\\n",
       "\t AHR8        &  0.000000\\\\\n",
       "\t AHRR7       &  0.000000\\\\\n",
       "\t AIRE36      &  7.101157\\\\\n",
       "\\end{tabular}\n"
      ],
      "text/markdown": [
       "\n",
       "A tibble: 6 × 2\n",
       "\n",
       "| feature &lt;chr&gt; | mlog10Padj &lt;dbl&gt; |\n",
       "|---|---|\n",
       "| AC002126638 | 41.440757 |\n",
       "| AC012531131 | 11.886557 |\n",
       "| AC226150277 |  7.198457 |\n",
       "| AHR8        |  0.000000 |\n",
       "| AHRR7       |  0.000000 |\n",
       "| AIRE36      |  7.101157 |\n",
       "\n"
      ],
      "text/plain": [
       "  feature     mlog10Padj\n",
       "1 AC002126638 41.440757 \n",
       "2 AC012531131 11.886557 \n",
       "3 AC226150277  7.198457 \n",
       "4 AHR8         0.000000 \n",
       "5 AHRR7        0.000000 \n",
       "6 AIRE36       7.101157 "
      ]
     },
     "metadata": {},
     "output_type": "display_data"
    }
   ],
   "source": [
    " head(MotifEnrichment)"
   ]
  },
  {
   "cell_type": "code",
   "execution_count": 64,
   "id": "36e98403-d637-4c78-8f7d-76783c7a979c",
   "metadata": {},
   "outputs": [],
   "source": [
    "test_enrich <- MotifSetEnrichmentAnalysis(ligandtf,MotifEnrichment,columnWithMotifs = 'feature',\n",
    "                                          ligands = colnames(filteredTF)[colSums(filteredTF) > 0],\n",
    "                                          mlogPval_threshold = 2,\n",
    "                                          annotationName = 'CellType', annotation = \"none\",\n",
    "                                          numCores = 30, verbose = FALSE)"
   ]
  },
  {
   "cell_type": "code",
   "execution_count": 65,
   "id": "6542b46a-9e71-43b4-89df-c8048940c4cd",
   "metadata": {},
   "outputs": [
    {
     "data": {
      "text/html": [
       "<table class=\"dataframe\">\n",
       "<caption>A data.frame: 6 × 6</caption>\n",
       "<thead>\n",
       "\t<tr><th></th><th scope=col>ligand</th><th scope=col>p_val</th><th scope=col>adjp_val</th><th scope=col>PercentSigTF</th><th scope=col>PercInNicheNet</th><th scope=col>CellType</th></tr>\n",
       "\t<tr><th></th><th scope=col>&lt;chr&gt;</th><th scope=col>&lt;dbl&gt;</th><th scope=col>&lt;dbl&gt;</th><th scope=col>&lt;dbl&gt;</th><th scope=col>&lt;dbl&gt;</th><th scope=col>&lt;chr&gt;</th></tr>\n",
       "</thead>\n",
       "<tbody>\n",
       "\t<tr><th scope=row>CXCL1</th><td>CXCL1 </td><td>0.4444444</td><td>1</td><td>0</td><td>0</td><td>none</td></tr>\n",
       "\t<tr><th scope=row>CXCL2</th><td>CXCL2 </td><td>0.4444444</td><td>1</td><td>0</td><td>0</td><td>none</td></tr>\n",
       "\t<tr><th scope=row>CXCL3</th><td>CXCL3 </td><td>0.4444444</td><td>1</td><td>0</td><td>0</td><td>none</td></tr>\n",
       "\t<tr><th scope=row>CXCL8</th><td>CXCL8 </td><td>0.4444444</td><td>1</td><td>0</td><td>0</td><td>none</td></tr>\n",
       "\t<tr><th scope=row>CXCL10</th><td>CXCL10</td><td>0.4444444</td><td>1</td><td>0</td><td>0</td><td>none</td></tr>\n",
       "\t<tr><th scope=row>XCL1</th><td>XCL1  </td><td>0.4444444</td><td>1</td><td>0</td><td>0</td><td>none</td></tr>\n",
       "</tbody>\n",
       "</table>\n"
      ],
      "text/latex": [
       "A data.frame: 6 × 6\n",
       "\\begin{tabular}{r|llllll}\n",
       "  & ligand & p\\_val & adjp\\_val & PercentSigTF & PercInNicheNet & CellType\\\\\n",
       "  & <chr> & <dbl> & <dbl> & <dbl> & <dbl> & <chr>\\\\\n",
       "\\hline\n",
       "\tCXCL1 & CXCL1  & 0.4444444 & 1 & 0 & 0 & none\\\\\n",
       "\tCXCL2 & CXCL2  & 0.4444444 & 1 & 0 & 0 & none\\\\\n",
       "\tCXCL3 & CXCL3  & 0.4444444 & 1 & 0 & 0 & none\\\\\n",
       "\tCXCL8 & CXCL8  & 0.4444444 & 1 & 0 & 0 & none\\\\\n",
       "\tCXCL10 & CXCL10 & 0.4444444 & 1 & 0 & 0 & none\\\\\n",
       "\tXCL1 & XCL1   & 0.4444444 & 1 & 0 & 0 & none\\\\\n",
       "\\end{tabular}\n"
      ],
      "text/markdown": [
       "\n",
       "A data.frame: 6 × 6\n",
       "\n",
       "| <!--/--> | ligand &lt;chr&gt; | p_val &lt;dbl&gt; | adjp_val &lt;dbl&gt; | PercentSigTF &lt;dbl&gt; | PercInNicheNet &lt;dbl&gt; | CellType &lt;chr&gt; |\n",
       "|---|---|---|---|---|---|---|\n",
       "| CXCL1 | CXCL1  | 0.4444444 | 1 | 0 | 0 | none |\n",
       "| CXCL2 | CXCL2  | 0.4444444 | 1 | 0 | 0 | none |\n",
       "| CXCL3 | CXCL3  | 0.4444444 | 1 | 0 | 0 | none |\n",
       "| CXCL8 | CXCL8  | 0.4444444 | 1 | 0 | 0 | none |\n",
       "| CXCL10 | CXCL10 | 0.4444444 | 1 | 0 | 0 | none |\n",
       "| XCL1 | XCL1   | 0.4444444 | 1 | 0 | 0 | none |\n",
       "\n"
      ],
      "text/plain": [
       "       ligand p_val     adjp_val PercentSigTF PercInNicheNet CellType\n",
       "CXCL1  CXCL1  0.4444444 1        0            0              none    \n",
       "CXCL2  CXCL2  0.4444444 1        0            0              none    \n",
       "CXCL3  CXCL3  0.4444444 1        0            0              none    \n",
       "CXCL8  CXCL8  0.4444444 1        0            0              none    \n",
       "CXCL10 CXCL10 0.4444444 1        0            0              none    \n",
       "XCL1   XCL1   0.4444444 1        0            0              none    "
      ]
     },
     "metadata": {},
     "output_type": "display_data"
    }
   ],
   "source": [
    "head(test_enrich)"
   ]
  },
  {
   "cell_type": "code",
   "execution_count": 67,
   "id": "ea874de7-4ef5-4ba2-9fbf-859336509927",
   "metadata": {},
   "outputs": [
    {
     "data": {
      "text/html": [
       "<style>\n",
       ".list-inline {list-style: none; margin:0; padding: 0}\n",
       ".list-inline>li {display: inline-block}\n",
       ".list-inline>li:not(:last-child)::after {content: \"\\00b7\"; padding: 0 .5ex}\n",
       "</style>\n",
       "<ol class=list-inline><li>3.87347466339537e-321</li><li>1</li></ol>\n"
      ],
      "text/latex": [
       "\\begin{enumerate*}\n",
       "\\item 3.87347466339537e-321\n",
       "\\item 1\n",
       "\\end{enumerate*}\n"
      ],
      "text/markdown": [
       "1. 3.87347466339537e-321\n",
       "2. 1\n",
       "\n",
       "\n"
      ],
      "text/plain": [
       "[1] 3.873475e-321  1.000000e+00"
      ]
     },
     "metadata": {},
     "output_type": "display_data"
    }
   ],
   "source": [
    "range(test_enrich$adjp_val)"
   ]
  },
  {
   "cell_type": "code",
   "execution_count": 68,
   "id": "82952451-e8a3-4c5f-8bb0-b2821c0efc42",
   "metadata": {},
   "outputs": [
    {
     "data": {
      "text/html": [
       "3.87347466339537e-321"
      ],
      "text/latex": [
       "3.87347466339537e-321"
      ],
      "text/markdown": [
       "3.87347466339537e-321"
      ],
      "text/plain": [
       "[1] 3.873475e-321"
      ]
     },
     "metadata": {},
     "output_type": "display_data"
    }
   ],
   "source": [
    "min(test_enrich$adjp_val)"
   ]
  },
  {
   "cell_type": "code",
   "execution_count": 69,
   "id": "5e39bc40-a865-4a1d-8fe7-ac303ba0eab0",
   "metadata": {},
   "outputs": [
    {
     "data": {
      "text/html": [
       "1"
      ],
      "text/latex": [
       "1"
      ],
      "text/markdown": [
       "1"
      ],
      "text/plain": [
       "[1] 1"
      ]
     },
     "metadata": {},
     "output_type": "display_data"
    }
   ],
   "source": [
    "max(test_enrich$adjp_val)"
   ]
  }
 ],
 "metadata": {
  "kernelspec": {
   "display_name": "R 4",
   "language": "R",
   "name": "ir"
  },
  "language_info": {
   "codemirror_mode": "r",
   "file_extension": ".r",
   "mimetype": "text/x-r-source",
   "name": "R",
   "pygments_lexer": "r",
   "version": "4.1.3"
  }
 },
 "nbformat": 4,
 "nbformat_minor": 5
}
